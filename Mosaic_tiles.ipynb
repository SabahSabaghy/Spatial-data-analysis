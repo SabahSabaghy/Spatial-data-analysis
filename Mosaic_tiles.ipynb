{
 "cells": [
  {
   "cell_type": "code",
   "execution_count": null,
   "id": "5bf52fc3",
   "metadata": {},
   "outputs": [],
   "source": [
    "import os\n",
    "import glob\n",
    "import rasterio\n",
    "from rasterio.merge import merge\n",
    "from rasterio.plot import show\n",
    "import matplotlib.pyplot as plt\n",
    "%matplotlib inline"
   ]
  },
  {
   "cell_type": "markdown",
   "id": "b73c8dd8",
   "metadata": {},
   "source": [
    "## Mosaic tiles"
   ]
  },
  {
   "cell_type": "code",
   "execution_count": null,
   "id": "ed3a2dd9",
   "metadata": {},
   "outputs": [],
   "source": [
    "#Set directories\n",
    "dirpath = r\"path\\\\\"\n",
    "out_fp = r\"output_path\\filename.tif\"\n",
    "\n",
    "count = 0\n",
    "for path in os.listdir(dirpath):\n",
    "    if os.path.isfile(os.path.join(dirpath, path)):\n",
    "        count += 1\n",
    "print(\"Images to mosaic = \" + str(count))\n",
    "\n",
    "#Empty list for the datafiles that will be part of the mosaic\n",
    "src_files_to_mosaic = []\n",
    "\n",
    "#Open files in read only mode with rasterio and add those files to the source file list\n",
    "for filename in glob.iglob(f'{dirpath}/*'):\n",
    "    src = rasterio.open(filename)\n",
    "    src_files_to_mosaic.append(src)\n",
    "\n",
    "#merge function returns a single mosaic array and the transformation info\n",
    "mosaic, out_trans = merge(src_files_to_mosaic)\n",
    "show(mosaic)\n",
    "\n",
    "# Copy the metadata\n",
    "out_meta = src.meta.copy()\n",
    "\n",
    "# Update the metadata\n",
    "out_meta.update({\"driver\": \"GTiff\",\n",
    "                 \"height\": mosaic.shape[1],\n",
    "                 \"width\": mosaic.shape[2],\n",
    "                 \"transform\": out_trans,\n",
    "                 \"crs\":src.crs\n",
    "                 }\n",
    "                )\n",
    "\n",
    "with rasterio.open(out_fp, \"w\", **out_meta) as dest:\n",
    "    dest.write(mosaic)\n",
    "\n",
    "print(\"done\")"
   ]
  }
 ],
 "metadata": {
  "kernelspec": {
   "display_name": "Python 3",
   "language": "python",
   "name": "python3"
  },
  "language_info": {
   "codemirror_mode": {
    "name": "ipython",
    "version": 3
   },
   "file_extension": ".py",
   "mimetype": "text/x-python",
   "name": "python",
   "nbconvert_exporter": "python",
   "pygments_lexer": "ipython3",
   "version": "3.7.13"
  }
 },
 "nbformat": 4,
 "nbformat_minor": 5
}
