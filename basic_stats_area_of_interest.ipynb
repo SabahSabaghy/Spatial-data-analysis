{
 "cells": [
  {
   "cell_type": "code",
   "execution_count": null,
   "metadata": {},
   "outputs": [],
   "source": [
    "import fiona\n",
    "import rasterio, rasterio.mask\n",
    "import glob, os\n",
    "import numpy as np\n",
    "import pandas as pd\n",
    "import matplotlib.pyplot as plt\n",
    "%matplotlib inline"
   ]
  },
  {
   "cell_type": "code",
   "execution_count": null,
   "metadata": {},
   "outputs": [],
   "source": [
    "with fiona.open(\"shapefile path\", \"r\") as shapefile:\n",
    "    shapes = [feature[\"geometry\"] for feature in shapefile]\n",
    "    \n",
    "print(shapes)"
   ]
  },
  {
   "cell_type": "code",
   "execution_count": null,
   "metadata": {},
   "outputs": [],
   "source": [
    "# Read all tif files in a directory\n",
    "file_list = [f for f in glob.glob(r\"data path\\*.tif\")]\n",
    "\n",
    "# create an empty dataframe\n",
    "df = pd.DataFrame()\n",
    "\n",
    "for fname in file_list:\n",
    "    with rasterio.open(fname) as src:\n",
    "        # subset area of interest\n",
    "        out_image, out_transform = rasterio.mask.mask(src, shapes, crop=True) \n",
    "        final = np.asarray(out_image, dtype = np.float64, order ='C')\n",
    "        final[final==-999] = np.nan # remove non value pixels \n",
    "        # create a table \n",
    "        df[variable_name] = pd.Series(final.ravel()) \n",
    "\n",
    "        \n",
    "        # save the subset data if required\n",
    "        out_meta = src.meta\n",
    "        out_meta.update({\"driver\": \"GTiff\",\n",
    "                         \"height\": out_image.shape[1],\n",
    "                         \"width\": out_image.shape[2],\n",
    "                         \"transform\": out_transform})\n",
    "        with rasterio.open('output_name', \"w\", **out_meta) as dest:\n",
    "            dest.write(out_image)\n",
    "\n",
    "# basic statistics \n",
    "df = df.describe()\n",
    "# export analysis\n",
    "df.to_excel(r\"output_path\\excel_file.xlsx\") "
   ]
  }
 ],
 "metadata": {
  "kernelspec": {
   "display_name": "Python 3",
   "language": "python",
   "name": "python3"
  },
  "language_info": {
   "codemirror_mode": {
    "name": "ipython",
    "version": 3
   },
   "file_extension": ".py",
   "mimetype": "text/x-python",
   "name": "python",
   "nbconvert_exporter": "python",
   "pygments_lexer": "ipython3",
   "version": "3.7.9"
  }
 },
 "nbformat": 4,
 "nbformat_minor": 4
}
