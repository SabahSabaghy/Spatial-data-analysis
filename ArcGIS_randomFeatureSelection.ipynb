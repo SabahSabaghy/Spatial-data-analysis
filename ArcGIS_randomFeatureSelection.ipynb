{
 "cells": [
  {
   "cell_type": "code",
   "execution_count": 2,
   "metadata": {},
   "outputs": [],
   "source": [
    "def SelectRandomByPercent (layer, percent):\n",
    "    #layer variable is the layer name in TOC\n",
    "    #percent is percent as whole number  (0-100)\n",
    "\n",
    "    import random\n",
    "    fc = arcpy.Describe(layer).catalogPath\n",
    "    featureCount = float (arcpy.GetCount_management (fc).getOutput (0))\n",
    "    count = int (featureCount * float (percent) / float (100))\n",
    "    if not count:\n",
    "        arcpy.SelectLayerByAttribute_management (layer, \"CLEAR_SELECTION\")\n",
    "        return\n",
    "    oids = [oid for oid, in arcpy.da.SearchCursor (fc, \"OID@\")]\n",
    "    oidFldName = arcpy.Describe (layer).OIDFieldName\n",
    "    path = arcpy.Describe (layer).path\n",
    "    delimOidFld = arcpy.AddFieldDelimiters (path, oidFldName)\n",
    "    randOids = random.sample (oids, count)\n",
    "    oidsStr = \", \".join (map (str, randOids))\n",
    "    sql = \"{0} IN ({1})\".format (delimOidFld, oidsStr)\n",
    "    arcpy.SelectLayerByAttribute_management (layer, \"\", sql)"
   ]
  }
 ],
 "metadata": {
  "kernelspec": {
   "display_name": "Python 3",
   "language": "python",
   "name": "python3"
  },
  "language_info": {
   "codemirror_mode": {
    "name": "ipython",
    "version": 3
   },
   "file_extension": ".py",
   "mimetype": "text/x-python",
   "name": "python",
   "nbconvert_exporter": "python",
   "pygments_lexer": "ipython3",
   "version": "3.7.9"
  }
 },
 "nbformat": 4,
 "nbformat_minor": 4
}
