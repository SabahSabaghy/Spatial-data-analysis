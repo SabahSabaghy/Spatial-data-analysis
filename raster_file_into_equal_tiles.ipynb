{
 "cells": [
  {
   "cell_type": "markdown",
   "metadata": {},
   "source": [
    "## Convert a raster file into equal tiles"
   ]
  },
  {
   "cell_type": "code",
   "execution_count": null,
   "metadata": {},
   "outputs": [],
   "source": [
    "import gdal\n",
    "import os"
   ]
  },
  {
   "cell_type": "code",
   "execution_count": null,
   "metadata": {},
   "outputs": [],
   "source": [
    "# output path\n",
    "cwd = r'F:\\VLUIS\\Data\\Land_Cover\\yr2122\\temp_SS\\test'\n",
    "# raster file to split into multiple tiles\n",
    "file_path = r\"F:\\VLUIS\\Data\\Land_Cover\\yr2122\\mallee\\Stack_aut_spr_sum_win.dat\"\n",
    "\n",
    "# get file name\n",
    "base = os.path.basename(file_path)\n",
    "filename = os.path.splitext(base)[0]\n",
    "\n",
    "# read the input file and get spatial reference information\n",
    "dem = gdal.Open(file_path)\n",
    "gt = dem.GetGeoTransform()\n",
    "\n",
    "# get the coordinate of upper left corner\n",
    "xmin = gt[0]\n",
    "ymax = gt[3]\n",
    "res = gt[1]\n",
    "\n",
    "# calculate length of rsater file in x and y direction\n",
    "xlen = res * dem.RasterXSize\n",
    "ylen = res * dem.RasterYSize\n",
    "\n",
    "# define number of tiles in each row and column\n",
    "div = 10 \n",
    "# define size of the tiles\n",
    "xsize = xlen/div\n",
    "ysize = ylen/div\n",
    "\n",
    "xstep = [xmin + xsize * i for i in range (div+1)]\n",
    "ystep = [ymax - ysize * i for i in range(div+1)]\n",
    "\n",
    "for i in range(div):\n",
    "    for j in range(div):\n",
    "        xmin = xstep[i]\n",
    "        xmax = xstep[i+1]\n",
    "        ymax = ystep[j]\n",
    "        ymin = ystep[j+1]\n",
    "\n",
    "        out_path = os.path.join(cwd, filename + '_' + str(i) + str(j) + '_Tile.tif')\n",
    "        gdal.Warp(out_path, dem, outputBounds=(xmin, ymin, xmax, ymax), dstNodata=-9999)\n",
    "        print(out_path)"
   ]
  }
 ],
 "metadata": {
  "kernelspec": {
   "display_name": "Python 3",
   "language": "python",
   "name": "python3"
  },
  "language_info": {
   "codemirror_mode": {
    "name": "ipython",
    "version": 3
   },
   "file_extension": ".py",
   "mimetype": "text/x-python",
   "name": "python",
   "nbconvert_exporter": "python",
   "pygments_lexer": "ipython3",
   "version": "3.7.9"
  }
 },
 "nbformat": 4,
 "nbformat_minor": 4
}
